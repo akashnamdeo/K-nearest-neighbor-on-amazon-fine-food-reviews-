{
 "cells": [
  {
   "cell_type": "code",
   "execution_count": 3,
   "metadata": {},
   "outputs": [],
   "source": [
    "import warnings\n",
    "warnings.filterwarnings(\"ignore\")\n",
    "import pandas as pd\n",
    "import numpy as np\n",
    "import sqlite3\n",
    "from sklearn.feature_extraction.text import CountVectorizer\n",
    "from sklearn.preprocessing import StandardScaler\n",
    "from sklearn.cross_validation import train_test_split\n",
    "from sklearn.neighbors import KNeighborsClassifier\n",
    "from sklearn.model_selection import cross_val_score\n",
    "from sklearn.feature_extraction.text import TfidfVectorizer\n",
    "from sklearn.metrics import accuracy_score\n",
    "from sklearn.metrics import confusion_matrix\n",
    "import matplotlib.pyplot as plt\n",
    "from sklearn.model_selection import GridSearchCV\n",
    "from tqdm import tqdm"
   ]
  },
  {
   "cell_type": "markdown",
   "metadata": {},
   "source": [
    "# newData is the sql file containing the preprocessed Data"
   ]
  },
  {
   "cell_type": "code",
   "execution_count": 4,
   "metadata": {},
   "outputs": [],
   "source": [
    "conn=sqlite3.connect(r'''C:\\Users\\akash\\ML\\AMAZON/newData.sqlite''')\n",
    "data=pd.read_sql_query(\"SELECT * FROM Reviews\",conn)"
   ]
  },
  {
   "cell_type": "code",
   "execution_count": 5,
   "metadata": {},
   "outputs": [],
   "source": [
    "sortedData=data.sort_values(by=[\"Time\"],axis=0)"
   ]
  },
  {
   "cell_type": "code",
   "execution_count": 5,
   "metadata": {},
   "outputs": [],
   "source": [
    "Data=sortedData.head(60000)"
   ]
  },
  {
   "cell_type": "code",
   "execution_count": 8,
   "metadata": {},
   "outputs": [
    {
     "data": {
      "text/html": [
       "<div>\n",
       "<style scoped>\n",
       "    .dataframe tbody tr th:only-of-type {\n",
       "        vertical-align: middle;\n",
       "    }\n",
       "\n",
       "    .dataframe tbody tr th {\n",
       "        vertical-align: top;\n",
       "    }\n",
       "\n",
       "    .dataframe thead th {\n",
       "        text-align: right;\n",
       "    }\n",
       "</style>\n",
       "<table border=\"1\" class=\"dataframe\">\n",
       "  <thead>\n",
       "    <tr style=\"text-align: right;\">\n",
       "      <th></th>\n",
       "      <th>index</th>\n",
       "      <th>Id</th>\n",
       "      <th>ProductId</th>\n",
       "      <th>UserId</th>\n",
       "      <th>ProfileName</th>\n",
       "      <th>HelpfulnessNumerator</th>\n",
       "      <th>HelpfulnessDenominator</th>\n",
       "      <th>Score</th>\n",
       "      <th>Time</th>\n",
       "      <th>Summary</th>\n",
       "      <th>Text</th>\n",
       "      <th>cleanedText</th>\n",
       "    </tr>\n",
       "  </thead>\n",
       "  <tbody>\n",
       "    <tr>\n",
       "      <th>3</th>\n",
       "      <td>138706</td>\n",
       "      <td>150524</td>\n",
       "      <td>0006641040</td>\n",
       "      <td>ACITT7DI6IDDL</td>\n",
       "      <td>shari zychinski</td>\n",
       "      <td>0</td>\n",
       "      <td>0</td>\n",
       "      <td>positive</td>\n",
       "      <td>939340800</td>\n",
       "      <td>EVERY book is educational</td>\n",
       "      <td>this witty little book makes my son laugh at l...</td>\n",
       "      <td>witti littl book make son laugh loud recit car...</td>\n",
       "    </tr>\n",
       "  </tbody>\n",
       "</table>\n",
       "</div>"
      ],
      "text/plain": [
       "    index      Id   ProductId         UserId      ProfileName  \\\n",
       "3  138706  150524  0006641040  ACITT7DI6IDDL  shari zychinski   \n",
       "\n",
       "   HelpfulnessNumerator  HelpfulnessDenominator     Score       Time  \\\n",
       "3                     0                       0  positive  939340800   \n",
       "\n",
       "                     Summary  \\\n",
       "3  EVERY book is educational   \n",
       "\n",
       "                                                Text  \\\n",
       "3  this witty little book makes my son laugh at l...   \n",
       "\n",
       "                                         cleanedText  \n",
       "3  witti littl book make son laugh loud recit car...  "
      ]
     },
     "execution_count": 8,
     "metadata": {},
     "output_type": "execute_result"
    }
   ],
   "source": [
    "Data.head(1)"
   ]
  },
  {
   "cell_type": "markdown",
   "metadata": {},
   "source": [
    "## BAG OF WORDS"
   ]
  },
  {
   "cell_type": "code",
   "execution_count": null,
   "metadata": {},
   "outputs": [],
   "source": [
    "D=Data.iloc[:,11]\n",
    "label=Data.iloc[:,7]\n",
    "print(D.shape)\n",
    "print(label.shape)\n",
    "\n",
    "xTrain,xTest,yTrain,yTest=train_test_split(D,label,test_size=0.3)\n",
    "print(\"xTrain:{}\".format(xTrain.shape))\n",
    "print(\"xTest:{}\".format(xTest.shape))\n",
    "print(\"yTrain:{}\".format(yTrain.shape))\n",
    "print(\"yTest:{}\".format(yTest.shape))\n"
   ]
  },
  {
   "cell_type": "code",
   "execution_count": 32,
   "metadata": {},
   "outputs": [],
   "source": [
    "D=Data.iloc[:,11]"
   ]
  },
  {
   "cell_type": "code",
   "execution_count": 33,
   "metadata": {},
   "outputs": [],
   "source": [
    "label=Data.iloc[:,7]"
   ]
  },
  {
   "cell_type": "code",
   "execution_count": 34,
   "metadata": {},
   "outputs": [
    {
     "name": "stdout",
     "output_type": "stream",
     "text": [
      "(60000,)\n",
      "(60000,)\n"
     ]
    }
   ],
   "source": [
    "print(D.shape)\n",
    "print(label.shape)"
   ]
  },
  {
   "cell_type": "code",
   "execution_count": 50,
   "metadata": {},
   "outputs": [],
   "source": [
    "xTrain,xTest,yTrain,yTest=train_test_split(D,label,test_size=0.3)"
   ]
  },
  {
   "cell_type": "code",
   "execution_count": 51,
   "metadata": {},
   "outputs": [
    {
     "name": "stdout",
     "output_type": "stream",
     "text": [
      "xTrain:(42000,)\n",
      "xTest:(18000,)\n",
      "yTrain:(42000,)\n",
      "yTest:(18000,)\n"
     ]
    }
   ],
   "source": [
    "print(\"xTrain:{}\".format(xTrain.shape))\n",
    "print(\"xTest:{}\".format(xTest.shape))\n",
    "print(\"yTrain:{}\".format(yTrain.shape))\n",
    "\n",
    "print(\"yTest:{}\".format(yTest.shape))"
   ]
  },
  {
   "cell_type": "code",
   "execution_count": 15,
   "metadata": {},
   "outputs": [],
   "source": [
    "model=CountVectorizer(ngram_range=(1,2))\n",
    "model.fit(xTrain)\n",
    "trainBOW=model.transform(xTrain)\n",
    "testBOW=model.transform(xTest)"
   ]
  },
  {
   "cell_type": "code",
   "execution_count": 16,
   "metadata": {},
   "outputs": [
    {
     "name": "stdout",
     "output_type": "stream",
     "text": [
      "(42000, 619112)\n",
      "(18000, 619112)\n"
     ]
    }
   ],
   "source": [
    "print(trainBOW.shape)\n",
    "print(testBOW.shape)"
   ]
  },
  {
   "cell_type": "markdown",
   "metadata": {},
   "source": [
    "## standardizing the data"
   ]
  },
  {
   "cell_type": "code",
   "execution_count": 17,
   "metadata": {},
   "outputs": [],
   "source": [
    "stdDataTrain=StandardScaler(with_mean=False).fit_transform(trainBOW)"
   ]
  },
  {
   "cell_type": "code",
   "execution_count": 18,
   "metadata": {},
   "outputs": [
    {
     "data": {
      "text/plain": [
       "(42000, 619112)"
      ]
     },
     "execution_count": 18,
     "metadata": {},
     "output_type": "execute_result"
    }
   ],
   "source": [
    "stdDataTrain.shape"
   ]
  },
  {
   "cell_type": "code",
   "execution_count": 19,
   "metadata": {},
   "outputs": [
    {
     "name": "stderr",
     "output_type": "stream",
     "text": [
      "100%|██████████████████████████████████████████████████████████████████████████████████| 25/25 [29:04<00:00, 73.21s/it]\n"
     ]
    }
   ],
   "source": [
    "cvScores=[]\n",
    "k=list(range(1,50,2))\n",
    "for i in tqdm(k):\n",
    "    knn=KNeighborsClassifier(n_neighbors=i,algorithm=\"brute\")\n",
    "    score=cross_val_score(knn,stdDataTrain,yTrain,cv=3,scoring=\"accuracy\")\n",
    "    cvScores.append(score.mean())"
   ]
  },
  {
   "cell_type": "code",
   "execution_count": 21,
   "metadata": {},
   "outputs": [
    {
     "name": "stdout",
     "output_type": "stream",
     "text": [
      "optimal k is 3\n",
      "error for each value of k = [0.1196 0.1191 0.1191 0.1191 0.1191 0.1191 0.1191 0.1191 0.1191 0.1191\n",
      " 0.1191 0.1191 0.1191 0.1191 0.1191 0.1191 0.1191 0.1191 0.1191 0.1191\n",
      " 0.1191 0.1191 0.1191 0.1191 0.1191]\n"
     ]
    },
    {
     "data": {
      "text/plain": [
       "[<matplotlib.lines.Line2D at 0x159f41c79e8>]"
      ]
     },
     "execution_count": 21,
     "metadata": {},
     "output_type": "execute_result"
    },
    {
     "data": {
      "image/png": "[encoded data removed]",
      "text/plain": [
       "<Figure size 720x576 with 1 Axes>"
      ]
     },
     "metadata": {},
     "output_type": "display_data"
    }
   ],
   "source": [
    "#ERROR\n",
    "MSE=[1-x for x in cvScores]\n",
    "optimalK=k[MSE.index(min(MSE))]\n",
    "print(\"optimal k is {}\".format(optimalK))\n",
    "print(\"error for each value of k = {}\".format(np.round(MSE,4)))\n",
    "plt.figure(figsize=(10,8))\n",
    "plt.plot(k,MSE,color=\"black\")\n"
   ]
  },
  {
   "cell_type": "code",
   "execution_count": 41,
   "metadata": {},
   "outputs": [
    {
     "data": {
      "text/plain": [
       "KNeighborsClassifier(algorithm='brute', leaf_size=30, metric='minkowski',\n",
       "           metric_params=None, n_jobs=1, n_neighbors=3, p=2,\n",
       "           weights='uniform')"
      ]
     },
     "execution_count": 41,
     "metadata": {},
     "output_type": "execute_result"
    }
   ],
   "source": [
    "knn=KNeighborsClassifier(n_neighbors=3,algorithm=\"brute\")\n",
    "knn.fit(stdDataTrain,yTrain)\n"
   ]
  },
  {
   "cell_type": "code",
   "execution_count": 42,
   "metadata": {},
   "outputs": [],
   "source": [
    "predicted=knn.predict(testBOW)\n"
   ]
  },
  {
   "cell_type": "code",
   "execution_count": 43,
   "metadata": {},
   "outputs": [
    {
     "data": {
      "text/plain": [
       "<matplotlib.axes._subplots.AxesSubplot at 0x159ebceb898>"
      ]
     },
     "execution_count": 43,
     "metadata": {},
     "output_type": "execute_result"
    },
    {
     "data": {
      "image/png": "[encoded data removed]",
      "text/plain": [
       "<Figure size 432x288 with 2 Axes>"
      ]
     },
     "metadata": {},
     "output_type": "display_data"
    }
   ],
   "source": [
    "import scikitplot.metrics\n",
    "scikitplot.metrics.plot_confusion_matrix(yTest,predicted)"
   ]
  },
  {
   "cell_type": "markdown",
   "metadata": {},
   "source": [
    "## observation:\n",
    "from confusion metrics it is clear that model is dumb.it is predicting everything to be positive."
   ]
  },
  {
   "cell_type": "markdown",
   "metadata": {},
   "source": [
    "# using kdTree  algorithm"
   ]
  },
  {
   "cell_type": "code",
   "execution_count": 6,
   "metadata": {},
   "outputs": [],
   "source": [
    "Data=sortedData.head(60000)"
   ]
  },
  {
   "cell_type": "code",
   "execution_count": 7,
   "metadata": {},
   "outputs": [],
   "source": [
    "D=Data.iloc[:,[11,7]]"
   ]
  },
  {
   "cell_type": "code",
   "execution_count": 8,
   "metadata": {},
   "outputs": [],
   "source": [
    "train, validate, test = np.split(D.sample(frac=1), [int(.6*len(D)), int(.8*len(D))])"
   ]
  },
  {
   "cell_type": "code",
   "execution_count": 9,
   "metadata": {},
   "outputs": [],
   "source": [
    "xTrain=train[\"cleanedText\"]\n",
    "yTrain=train[\"Score\"]\n",
    "xcv=validate[\"cleanedText\"]\n",
    "ycv=validate[\"Score\"]\n",
    "xtest=test[\"cleanedText\"]\n",
    "ytest=test[\"Score\"]"
   ]
  },
  {
   "cell_type": "code",
   "execution_count": 10,
   "metadata": {},
   "outputs": [
    {
     "name": "stdout",
     "output_type": "stream",
     "text": [
      "shapes*****\n",
      "xTrain : (36000,)\n",
      "yTrain : (36000,)\n",
      "xcv : (12000,)\n",
      "ycv : (12000,)\n",
      "xtest : (12000,)\n",
      "ytest : (12000,)\n"
     ]
    }
   ],
   "source": [
    "print(\"shapes*****\")\n",
    "print(\"xTrain : {}\".format(xTrain.shape))\n",
    "print(\"yTrain : {}\".format(yTrain.shape))\n",
    "print(\"xcv : {}\".format(xcv.shape))\n",
    "print(\"ycv : {}\".format(ycv.shape))\n",
    "print(\"xtest : {}\".format(xtest.shape))\n",
    "print(\"ytest : {}\".format(ytest.shape))"
   ]
  },
  {
   "cell_type": "code",
   "execution_count": 19,
   "metadata": {},
   "outputs": [],
   "source": [
    "model=CountVectorizer()\n",
    "model.fit(xTrain)\n",
    "trainBOW=model.transform(xTrain)\n",
    "cvBOW=model.transform(xcv)\n",
    "testBOW=model.transform(xtest)"
   ]
  },
  {
   "cell_type": "code",
   "execution_count": 22,
   "metadata": {},
   "outputs": [],
   "source": [
    "stdDataTrain=StandardScaler(with_mean=False).fit_transform(trainBOW)"
   ]
  },
  {
   "cell_type": "code",
   "execution_count": 23,
   "metadata": {},
   "outputs": [
    {
     "data": {
      "text/plain": [
       "(36000, 22524)"
      ]
     },
     "execution_count": 23,
     "metadata": {},
     "output_type": "execute_result"
    }
   ],
   "source": [
    "stdDataTrain.shape"
   ]
  },
  {
   "cell_type": "code",
   "execution_count": 24,
   "metadata": {},
   "outputs": [],
   "source": [
    "stdDatacv=StandardScaler(with_mean=False).fit_transform(cvBOW)"
   ]
  },
  {
   "cell_type": "code",
   "execution_count": 25,
   "metadata": {},
   "outputs": [
    {
     "data": {
      "text/plain": [
       "(12000, 22524)"
      ]
     },
     "execution_count": 25,
     "metadata": {},
     "output_type": "execute_result"
    }
   ],
   "source": [
    "stdDatacv.shape"
   ]
  },
  {
   "cell_type": "code",
   "execution_count": 26,
   "metadata": {},
   "outputs": [],
   "source": [
    "from sklearn import decomposition\n",
    "svd=decomposition.TruncatedSVD()\n",
    "svd.n_components=8000\n",
    "svd_data=svd.fit_transform(stdDataTrain)"
   ]
  },
  {
   "cell_type": "code",
   "execution_count": 36,
   "metadata": {},
   "outputs": [
    {
     "data": {
      "text/plain": [
       "(36000, 8000)"
      ]
     },
     "execution_count": 36,
     "metadata": {},
     "output_type": "execute_result"
    }
   ],
   "source": [
    "svd_data.shape"
   ]
  },
  {
   "cell_type": "code",
   "execution_count": 28,
   "metadata": {},
   "outputs": [],
   "source": [
    "svdCV=svd.fit_transform(stdDatacv)"
   ]
  },
  {
   "cell_type": "code",
   "execution_count": 29,
   "metadata": {},
   "outputs": [],
   "source": [
    "reducedTest=svd.fit_transform(testBOW)"
   ]
  },
  {
   "cell_type": "code",
   "execution_count": 35,
   "metadata": {},
   "outputs": [
    {
     "data": {
      "text/plain": [
       "(12000, 8000)"
      ]
     },
     "execution_count": 35,
     "metadata": {},
     "output_type": "execute_result"
    }
   ],
   "source": [
    "reducedTest.shape"
   ]
  },
  {
   "cell_type": "code",
   "execution_count": 27,
   "metadata": {},
   "outputs": [
    {
     "data": {
      "image/png": "[encoded data removed]",
      "text/plain": [
       "<Figure size 432x288 with 1 Axes>"
      ]
     },
     "metadata": {},
     "output_type": "display_data"
    }
   ],
   "source": [
    "cumulative_explained_variance=np.cumsum(svd.explained_variance_ratio_)\n",
    "plt.figure(1, figsize=(6, 4))\n",
    "\n",
    "plt.clf()\n",
    "plt.plot(cumulative_explained_variance, linewidth=2)\n",
    "plt.axis('tight')\n",
    "plt.grid()\n",
    "plt.xlabel('n_components')\n",
    "plt.ylabel('Cumulative_explained_variance')\n",
    "plt.show()\n"
   ]
  },
  {
   "cell_type": "code",
   "execution_count": 30,
   "metadata": {},
   "outputs": [
    {
     "name": "stderr",
     "output_type": "stream",
     "text": [
      "100%|██████████████████████████████████████████████████████████████████████████████| 15/15 [7:18:16<00:00, 1527.71s/it]\n"
     ]
    }
   ],
   "source": [
    "cvScores=[]\n",
    "k=list(range(1,30,2))\n",
    "for i in tqdm(k):\n",
    "    knn=KNeighborsClassifier(n_neighbors=i,algorithm=\"kd_tree\")\n",
    "    score=cross_val_score(knn,svdCV,ycv,cv=3,scoring=\"accuracy\")\n",
    "    cvScores.append(score.mean())\n"
   ]
  },
  {
   "cell_type": "code",
   "execution_count": 31,
   "metadata": {},
   "outputs": [
    {
     "name": "stdout",
     "output_type": "stream",
     "text": [
      "optimal k is 5\n",
      "error for each value of k = [0.1552 0.1239 0.1189 0.1195 0.1191 0.119  0.1192 0.1192 0.1193 0.1193\n",
      " 0.1193 0.1193 0.1193 0.1193 0.1193]\n"
     ]
    },
    {
     "data": {
      "text/plain": [
       "[<matplotlib.lines.Line2D at 0x1873706d2b0>]"
      ]
     },
     "execution_count": 31,
     "metadata": {},
     "output_type": "execute_result"
    },
    {
     "data": {
      "image/png": "[encoded data removed]",
      "text/plain": [
       "<Figure size 720x576 with 1 Axes>"
      ]
     },
     "metadata": {},
     "output_type": "display_data"
    }
   ],
   "source": [
    "#ERROR\n",
    "MSE=[1-x for x in cvScores]\n",
    "optimalK=k[MSE.index(min(MSE))]\n",
    "print(\"optimal k is {}\".format(optimalK))\n",
    "print(\"error for each value of k = {}\".format(np.round(MSE,4)))\n",
    "plt.figure(figsize=(10,8))\n",
    "plt.plot(k,MSE,color=\"black\")\n"
   ]
  },
  {
   "cell_type": "code",
   "execution_count": 37,
   "metadata": {},
   "outputs": [
    {
     "data": {
      "text/plain": [
       "KNeighborsClassifier(algorithm='kd_tree', leaf_size=30, metric='minkowski',\n",
       "           metric_params=None, n_jobs=1, n_neighbors=5, p=2,\n",
       "           weights='uniform')"
      ]
     },
     "execution_count": 37,
     "metadata": {},
     "output_type": "execute_result"
    }
   ],
   "source": [
    "knn=KNeighborsClassifier(n_neighbors=optimalK,algorithm=\"kd_tree\")\n",
    "knn.fit(svd_data,yTrain)\n",
    "\n"
   ]
  },
  {
   "cell_type": "code",
   "execution_count": null,
   "metadata": {},
   "outputs": [],
   "source": [
    "predicted=knn.predict(reducedTest)"
   ]
  },
  {
   "cell_type": "code",
   "execution_count": 39,
   "metadata": {},
   "outputs": [
    {
     "data": {
      "text/plain": [
       "<matplotlib.axes._subplots.AxesSubplot at 0x1873e91d9b0>"
      ]
     },
     "execution_count": 39,
     "metadata": {},
     "output_type": "execute_result"
    },
    {
     "data": {
      "image/png": "[encoded data removed]",
      "text/plain": [
       "<Figure size 432x288 with 2 Axes>"
      ]
     },
     "metadata": {},
     "output_type": "display_data"
    }
   ],
   "source": [
    "import scikitplot.metrics\n",
    "scikitplot.metrics.plot_confusion_matrix(ytest,predicted)"
   ]
  },
  {
   "cell_type": "markdown",
   "metadata": {},
   "source": [
    "## observation:\n",
    "the result for both brute force and kd_tree is samne.both are not able to predict the negative reviews. they are predicting every review as positive."
   ]
  },
  {
   "cell_type": "markdown",
   "metadata": {},
   "source": [
    "# TFIDF"
   ]
  },
  {
   "cell_type": "code",
   "execution_count": 66,
   "metadata": {},
   "outputs": [],
   "source": [
    "xTrain,xTest,yTrain,yTest=train_test_split(D,label,test_size=0.3)"
   ]
  },
  {
   "cell_type": "code",
   "execution_count": 67,
   "metadata": {},
   "outputs": [
    {
     "name": "stdout",
     "output_type": "stream",
     "text": [
      "xTrain:(42000,)\n",
      "xTest:(18000,)\n",
      "yTrain:(42000,)\n",
      "yTest:(18000,)\n"
     ]
    }
   ],
   "source": [
    "print(\"xTrain:{}\".format(xTrain.shape))\n",
    "print(\"xTest:{}\".format(xTest.shape))\n",
    "print(\"yTrain:{}\".format(yTrain.shape))\n",
    "\n",
    "print(\"yTest:{}\".format(yTest.shape))"
   ]
  },
  {
   "cell_type": "code",
   "execution_count": 68,
   "metadata": {},
   "outputs": [],
   "source": [
    "model=TfidfVectorizer()\n",
    "model.fit(xTrain)\n",
    "trainTFIDF=model.transform(xTrain)\n",
    "testTFIDF=model.transform(xTest)"
   ]
  },
  {
   "cell_type": "code",
   "execution_count": 69,
   "metadata": {},
   "outputs": [],
   "source": [
    "features=model.get_feature_names()"
   ]
  },
  {
   "cell_type": "code",
   "execution_count": 55,
   "metadata": {},
   "outputs": [],
   "source": [
    "stdTrainTFIDF=StandardScaler(with_mean=False).fit_transform(trainTFIDF)"
   ]
  },
  {
   "cell_type": "code",
   "execution_count": 56,
   "metadata": {},
   "outputs": [
    {
     "data": {
      "text/plain": [
       "(42000, 24365)"
      ]
     },
     "execution_count": 56,
     "metadata": {},
     "output_type": "execute_result"
    }
   ],
   "source": [
    "stdTrainTFIDF.shape"
   ]
  },
  {
   "cell_type": "code",
   "execution_count": 57,
   "metadata": {},
   "outputs": [
    {
     "name": "stderr",
     "output_type": "stream",
     "text": [
      "100%|██████████████████████████████████████████████████████████████████████████████████| 25/25 [15:16<00:00, 37.25s/it]\n"
     ]
    }
   ],
   "source": [
    "cvScores=[]\n",
    "k=list(range(1,50,2))\n",
    "for i in tqdm(k):\n",
    "    knn=KNeighborsClassifier(n_neighbors=i,algorithm=\"brute\")\n",
    "    score=cross_val_score(knn,stdTrainTFIDF,yTrain,cv=3,scoring=\"accuracy\")\n",
    "    cvScores.append(score.mean())"
   ]
  },
  {
   "cell_type": "code",
   "execution_count": 58,
   "metadata": {},
   "outputs": [
    {
     "name": "stdout",
     "output_type": "stream",
     "text": [
      "optimal k is 7\n",
      "error for each value of k = [0.15 0.12 0.12 0.12 0.12 0.12 0.12 0.12 0.12 0.12 0.12 0.12 0.12 0.12\n",
      " 0.12 0.12 0.12 0.12 0.12 0.12 0.12 0.12 0.12 0.12 0.12]\n"
     ]
    },
    {
     "data": {
      "text/plain": [
       "[<matplotlib.lines.Line2D at 0x1873590fc18>]"
      ]
     },
     "execution_count": 58,
     "metadata": {},
     "output_type": "execute_result"
    },
    {
     "data": {
      "image/png": "[encoded data removed]",
      "text/plain": [
       "<Figure size 720x576 with 1 Axes>"
      ]
     },
     "metadata": {},
     "output_type": "display_data"
    }
   ],
   "source": [
    "#ERROR\n",
    "MSE=[1-x for x in cvScores]\n",
    "optimalK=k[MSE.index(min(MSE))]\n",
    "print(\"optimal k is {}\".format(optimalK))\n",
    "print(\"error for each value of k = {}\".format(np.round(MSE,2)))\n",
    "plt.figure(figsize=(10,8))\n",
    "plt.plot(k,MSE,color=\"black\")\n"
   ]
  },
  {
   "cell_type": "code",
   "execution_count": 60,
   "metadata": {},
   "outputs": [
    {
     "data": {
      "text/plain": [
       "<matplotlib.axes._subplots.AxesSubplot at 0x18729a05278>"
      ]
     },
     "execution_count": 60,
     "metadata": {},
     "output_type": "execute_result"
    },
    {
     "data": {
      "image/png": "[encoded data removed]",
      "text/plain": [
       "<Figure size 432x288 with 2 Axes>"
      ]
     },
     "metadata": {},
     "output_type": "display_data"
    }
   ],
   "source": [
    "knn=KNeighborsClassifier(n_neighbors=3,algorithm=\"brute\")\n",
    "knn.fit(stdTrainTFIDF,yTrain)\n",
    "\n",
    "predicted=knn.predict(testTFIDF)\n",
    "\n",
    "scikitplot.metrics.plot_confusion_matrix(yTest,predicted)"
   ]
  },
  {
   "cell_type": "markdown",
   "metadata": {},
   "source": [
    "## observation:\n",
    "same scenario with tfidf model is predicting every review to be positive. "
   ]
  },
  {
   "cell_type": "markdown",
   "metadata": {},
   "source": [
    "# using kdTree algo"
   ]
  },
  {
   "cell_type": "code",
   "execution_count": 11,
   "metadata": {},
   "outputs": [
    {
     "name": "stdout",
     "output_type": "stream",
     "text": [
      "shapes*****\n",
      "xTrain : (36000,)\n",
      "yTrain : (36000,)\n",
      "xcv : (12000,)\n",
      "ycv : (12000,)\n",
      "xtest : (12000,)\n",
      "ytest : (12000,)\n"
     ]
    }
   ],
   "source": [
    "Data=sortedData.head(60000)\n",
    "D=Data.iloc[:,[11,7]]\n",
    "train, validate, test = np.split(D.sample(frac=1), [int(.6*len(D)), int(.8*len(D))])\n",
    "\n",
    "xTrain=train[\"cleanedText\"]\n",
    "yTrain=train[\"Score\"]\n",
    "xcv=validate[\"cleanedText\"]\n",
    "ycv=validate[\"Score\"]\n",
    "xtest=test[\"cleanedText\"]\n",
    "ytest=test[\"Score\"]\n",
    "\n",
    "print(\"shapes*****\")\n",
    "print(\"xTrain : {}\".format(xTrain.shape))\n",
    "print(\"yTrain : {}\".format(yTrain.shape))\n",
    "print(\"xcv : {}\".format(xcv.shape))\n",
    "print(\"ycv : {}\".format(ycv.shape))\n",
    "print(\"xtest : {}\".format(xtest.shape))\n",
    "print(\"ytest : {}\".format(ytest.shape))"
   ]
  },
  {
   "cell_type": "code",
   "execution_count": 12,
   "metadata": {},
   "outputs": [],
   "source": [
    "model=TfidfVectorizer()\n",
    "model.fit(xTrain)\n",
    "trainTFIDF=model.transform(xTrain)\n",
    "cvTFIDF=model.transform(xcv)\n",
    "testTFIDF=model.transform(xtest)"
   ]
  },
  {
   "cell_type": "code",
   "execution_count": 13,
   "metadata": {},
   "outputs": [
    {
     "name": "stdout",
     "output_type": "stream",
     "text": [
      "(36000, 22531)\n",
      "(12000, 22531)\n",
      "(12000, 22531)\n"
     ]
    }
   ],
   "source": [
    "print(trainTFIDF.shape)\n",
    "print(cvTFIDF.shape)\n",
    "print(testTFIDF.shape)"
   ]
  },
  {
   "cell_type": "code",
   "execution_count": 14,
   "metadata": {},
   "outputs": [
    {
     "name": "stdout",
     "output_type": "stream",
     "text": [
      "(36000, 22531)\n",
      "(12000, 22531)\n"
     ]
    }
   ],
   "source": [
    "stdDataTrain=StandardScaler(with_mean=False).fit_transform(trainTFIDF)\n",
    "print(stdDataTrain.shape)\n",
    "stdDatacv=StandardScaler(with_mean=False).fit_transform(cvTFIDF)\n",
    "print(stdDatacv.shape)"
   ]
  },
  {
   "cell_type": "code",
   "execution_count": 18,
   "metadata": {},
   "outputs": [],
   "source": [
    "from sklearn import decomposition\n",
    "svd=decomposition.TruncatedSVD()\n",
    "svd.n_components=12000\n",
    "svd_data=svd.fit_transform(stdDataTrain)"
   ]
  },
  {
   "cell_type": "code",
   "execution_count": 19,
   "metadata": {},
   "outputs": [
    {
     "data": {
      "image/png": "[encoded data removed]",
      "text/plain": [
       "<Figure size 432x288 with 1 Axes>"
      ]
     },
     "metadata": {},
     "output_type": "display_data"
    }
   ],
   "source": [
    "cumulative_explained_variance=np.cumsum(svd.explained_variance_ratio_)\n",
    "plt.figure(1, figsize=(6, 4))\n",
    "\n",
    "plt.clf()\n",
    "plt.plot(cumulative_explained_variance, linewidth=2)\n",
    "plt.axis('tight')\n",
    "plt.grid()\n",
    "plt.xlabel('n_components')\n",
    "plt.ylabel('Cumulative_explained_variance')\n",
    "plt.show()"
   ]
  },
  {
   "cell_type": "code",
   "execution_count": 20,
   "metadata": {},
   "outputs": [],
   "source": [
    "svdCV=svd.fit_transform(stdDatacv)"
   ]
  },
  {
   "cell_type": "code",
   "execution_count": 21,
   "metadata": {},
   "outputs": [],
   "source": [
    "reducedTest=svd.fit_transform(testBOW)"
   ]
  },
  {
   "cell_type": "code",
   "execution_count": 22,
   "metadata": {},
   "outputs": [
    {
     "name": "stderr",
     "output_type": "stream",
     "text": [
      "100%|█████████████████████████████████████████████████████████████████████████████| 15/15 [11:54:34<00:00, 2082.07s/it]\n"
     ]
    }
   ],
   "source": [
    "cvScores=[]\n",
    "k=list(range(1,30,2))\n",
    "for i in tqdm(k):\n",
    "    knn=KNeighborsClassifier(n_neighbors=i,algorithm=\"kd_tree\")\n",
    "    score=cross_val_score(knn,svdCV,ycv,cv=3,scoring=\"accuracy\")\n",
    "    cvScores.append(score.mean())"
   ]
  },
  {
   "cell_type": "code",
   "execution_count": 23,
   "metadata": {},
   "outputs": [
    {
     "name": "stdout",
     "output_type": "stream",
     "text": [
      "optimal k is 7\n",
      "error for each value of k = [0.1482 0.1216 0.1192 0.119  0.119  0.119  0.119  0.119  0.119  0.119\n",
      " 0.119  0.119  0.119  0.119  0.119 ]\n"
     ]
    },
    {
     "data": {
      "text/plain": [
       "[<matplotlib.lines.Line2D at 0x25640134fd0>]"
      ]
     },
     "execution_count": 23,
     "metadata": {},
     "output_type": "execute_result"
    },
    {
     "data": {
      "image/png": "[encoded data removed]",
      "text/plain": [
       "<Figure size 720x576 with 1 Axes>"
      ]
     },
     "metadata": {},
     "output_type": "display_data"
    }
   ],
   "source": [
    "#ERROR\n",
    "MSE=[1-x for x in cvScores]\n",
    "optimalK=k[MSE.index(min(MSE))]\n",
    "print(\"optimal k is {}\".format(optimalK))\n",
    "print(\"error for each value of k = {}\".format(np.round(MSE,4)))\n",
    "plt.figure(figsize=(10,8))\n",
    "plt.plot(k,MSE,color=\"black\")\n"
   ]
  },
  {
   "cell_type": "code",
   "execution_count": 24,
   "metadata": {},
   "outputs": [
    {
     "data": {
      "text/plain": [
       "<matplotlib.axes._subplots.AxesSubplot at 0x25643402518>"
      ]
     },
     "execution_count": 24,
     "metadata": {},
     "output_type": "execute_result"
    },
    {
     "data": {
      "image/png": "[encoded data removed]",
      "text/plain": [
       "<Figure size 432x288 with 2 Axes>"
      ]
     },
     "metadata": {},
     "output_type": "display_data"
    }
   ],
   "source": [
    "knn=KNeighborsClassifier(n_neighbors=optimalK,algorithm=\"kd_tree\")\n",
    "knn.fit(svd_data,yTrain)\n",
    "predicted=knn.predict(reducedTest)\n",
    "import scikitplot.metrics\n",
    "scikitplot.metrics.plot_confusion_matrix(ytest,predicted)"
   ]
  },
  {
   "cell_type": "markdown",
   "metadata": {},
   "source": [
    "# observation:\n",
    "same case as with the brute force algorithm"
   ]
  },
  {
   "cell_type": "markdown",
   "metadata": {},
   "source": [
    "## AVGword2vec"
   ]
  },
  {
   "cell_type": "code",
   "execution_count": 73,
   "metadata": {},
   "outputs": [],
   "source": [
    "xTrain,xTest,yTrain,yTest=train_test_split(D,label,test_size=0.3,random_state=42)"
   ]
  },
  {
   "cell_type": "code",
   "execution_count": 74,
   "metadata": {},
   "outputs": [],
   "source": [
    "lst=[]\n",
    "for tlst in xTrain:\n",
    "    lst.append(tlst.split())"
   ]
  },
  {
   "cell_type": "code",
   "execution_count": 75,
   "metadata": {},
   "outputs": [],
   "source": [
    "test=[]\n",
    "for x in xTest:\n",
    "    test.append(x.split())"
   ]
  },
  {
   "cell_type": "code",
   "execution_count": 77,
   "metadata": {},
   "outputs": [],
   "source": [
    "from gensim.models import Word2Vec\n",
    "modelw2v=Word2Vec(lst,min_count=5,size=50)"
   ]
  },
  {
   "cell_type": "code",
   "execution_count": 78,
   "metadata": {},
   "outputs": [],
   "source": [
    "words=list(modelw2v.wv.vocab)"
   ]
  },
  {
   "cell_type": "markdown",
   "metadata": {},
   "source": [
    "## for train"
   ]
  },
  {
   "cell_type": "code",
   "execution_count": 80,
   "metadata": {},
   "outputs": [
    {
     "name": "stderr",
     "output_type": "stream",
     "text": [
      "100%|██████████████████████████████████████████████████████████████████████████| 42000/42000 [00:26<00:00, 1581.98it/s]\n"
     ]
    }
   ],
   "source": [
    "sent_vect=[]\n",
    "for lt in tqdm(lst):\n",
    "    Svec=np.zeros(50)\n",
    "    cnt=0\n",
    "    for word in lt:\n",
    "        if word in words:\n",
    "            vec=modelw2v.wv[word]\n",
    "            Svec+=vec\n",
    "            cnt+=1\n",
    "    if cnt!=0:\n",
    "        sent_vect.append(Svec/cnt)\n",
    "            \n",
    "            "
   ]
  },
  {
   "cell_type": "markdown",
   "metadata": {},
   "source": [
    "## for test"
   ]
  },
  {
   "cell_type": "code",
   "execution_count": 83,
   "metadata": {},
   "outputs": [
    {
     "name": "stderr",
     "output_type": "stream",
     "text": [
      "100%|██████████████████████████████████████████████████████████████████████████| 18000/18000 [00:11<00:00, 1554.89it/s]\n"
     ]
    }
   ],
   "source": [
    "sent_vect_test=[]\n",
    "for lt in tqdm(test):\n",
    "    Svec=np.zeros(50)\n",
    "    cnt=0\n",
    "    for word in lt:\n",
    "        if word in words:\n",
    "            vec=modelw2v.wv[word]\n",
    "            Svec+=vec\n",
    "            cnt+=1\n",
    "    if cnt!=0:\n",
    "        sent_vect_test.append(Svec/cnt)"
   ]
  },
  {
   "cell_type": "markdown",
   "metadata": {},
   "source": [
    "## finding the best hyperparameter"
   ]
  },
  {
   "cell_type": "code",
   "execution_count": 84,
   "metadata": {},
   "outputs": [
    {
     "name": "stderr",
     "output_type": "stream",
     "text": [
      "100%|██████████████████████████████████████████████████████████████████████████████████| 25/25 [08:02<00:00, 20.45s/it]\n"
     ]
    }
   ],
   "source": [
    "cvScores=[]\n",
    "k=list(range(1,50,2))\n",
    "for i in tqdm(k):\n",
    "    knn=KNeighborsClassifier(n_neighbors=i,algorithm=\"brute\")\n",
    "    score=cross_val_score(knn,sent_vect,yTrain,cv=3,scoring=\"accuracy\")\n",
    "    cvScores.append(score.mean())"
   ]
  },
  {
   "cell_type": "code",
   "execution_count": 85,
   "metadata": {},
   "outputs": [
    {
     "name": "stdout",
     "output_type": "stream",
     "text": [
      "optimal k is 17\n",
      "error for each value of k = [0.1469 0.119  0.1113 0.1088 0.108  0.1074 0.107  0.1071 0.1068 0.1072\n",
      " 0.1071 0.1073 0.1072 0.1073 0.1077 0.1076 0.1078 0.1077 0.1083 0.1085\n",
      " 0.1087 0.109  0.1091 0.1091 0.1092]\n"
     ]
    },
    {
     "data": {
      "text/plain": [
       "[<matplotlib.lines.Line2D at 0x2563b130a20>]"
      ]
     },
     "execution_count": 85,
     "metadata": {},
     "output_type": "execute_result"
    },
    {
     "data": {
      "image/png": "[encoded data removed]",
      "text/plain": [
       "<Figure size 720x576 with 1 Axes>"
      ]
     },
     "metadata": {},
     "output_type": "display_data"
    }
   ],
   "source": [
    "#ERROR\n",
    "MSE=[1-x for x in cvScores]\n",
    "optimalK=k[MSE.index(min(MSE))]\n",
    "print(\"optimal k is {}\".format(optimalK))\n",
    "print(\"error for each value of k = {}\".format(np.round(MSE,4)))\n",
    "plt.figure(figsize=(10,8))\n",
    "plt.plot(k,MSE,color=\"black\")\n"
   ]
  },
  {
   "cell_type": "code",
   "execution_count": 86,
   "metadata": {},
   "outputs": [
    {
     "data": {
      "text/plain": [
       "KNeighborsClassifier(algorithm='brute', leaf_size=30, metric='minkowski',\n",
       "           metric_params=None, n_jobs=1, n_neighbors=17, p=2,\n",
       "           weights='uniform')"
      ]
     },
     "execution_count": 86,
     "metadata": {},
     "output_type": "execute_result"
    }
   ],
   "source": [
    "knn=KNeighborsClassifier(n_neighbors=optimalK,algorithm=\"brute\")\n",
    "knn.fit(sent_vect,yTrain)\n"
   ]
  },
  {
   "cell_type": "code",
   "execution_count": 87,
   "metadata": {},
   "outputs": [
    {
     "data": {
      "text/plain": [
       "<matplotlib.axes._subplots.AxesSubplot at 0x256366d1ba8>"
      ]
     },
     "execution_count": 87,
     "metadata": {},
     "output_type": "execute_result"
    },
    {
     "data": {
      "image/png": "[encoded data removed]",
      "text/plain": [
       "<Figure size 432x288 with 2 Axes>"
      ]
     },
     "metadata": {},
     "output_type": "display_data"
    }
   ],
   "source": [
    "predicted=knn.predict(sent_vect_test)\n",
    "scikitplot.metrics.plot_confusion_matrix(yTest,predicted)"
   ]
  },
  {
   "cell_type": "markdown",
   "metadata": {},
   "source": [
    "## observation:\n",
    "this model is better as comapred to above 2 models.it is able to predict the negative reviews.but we cant say its as the best as false positive is high(as well as false negative)"
   ]
  },
  {
   "cell_type": "markdown",
   "metadata": {},
   "source": [
    "# KDTREE ALGORITHM"
   ]
  },
  {
   "cell_type": "code",
   "execution_count": 88,
   "metadata": {},
   "outputs": [
    {
     "name": "stderr",
     "output_type": "stream",
     "text": [
      "100%|█████████████████████████████████████████████████████████████████████████████████| 25/25 [51:47<00:00, 125.12s/it]\n"
     ]
    }
   ],
   "source": [
    "cvScores=[]\n",
    "k=list(range(1,50,2))\n",
    "for i in tqdm(k):\n",
    "    knn=KNeighborsClassifier(n_neighbors=i,algorithm=\"kd_tree\")\n",
    "    score=cross_val_score(knn,sent_vect,yTrain,cv=3,scoring=\"accuracy\")\n",
    "    cvScores.append(score.mean())"
   ]
  },
  {
   "cell_type": "code",
   "execution_count": 89,
   "metadata": {},
   "outputs": [
    {
     "name": "stdout",
     "output_type": "stream",
     "text": [
      "optimal k is 17\n",
      "error for each value of k = [0.1469 0.119  0.1113 0.1088 0.108  0.1074 0.107  0.1071 0.1068 0.1072\n",
      " 0.1071 0.1073 0.1072 0.1073 0.1077 0.1076 0.1078 0.1077 0.1083 0.1085\n",
      " 0.1087 0.109  0.1091 0.1091 0.1092]\n"
     ]
    },
    {
     "data": {
      "text/plain": [
       "<matplotlib.axes._subplots.AxesSubplot at 0x2564a63e278>"
      ]
     },
     "execution_count": 89,
     "metadata": {},
     "output_type": "execute_result"
    },
    {
     "data": {
      "image/png": "[encoded data removed]",
      "text/plain": [
       "<Figure size 720x576 with 1 Axes>"
      ]
     },
     "metadata": {},
     "output_type": "display_data"
    },
    {
     "data": {
      "image/png": "[encoded data removed]",
      "text/plain": [
       "<Figure size 432x288 with 2 Axes>"
      ]
     },
     "metadata": {},
     "output_type": "display_data"
    }
   ],
   "source": [
    "#ERROR\n",
    "MSE=[1-x for x in cvScores]\n",
    "optimalK=k[MSE.index(min(MSE))]\n",
    "print(\"optimal k is {}\".format(optimalK))\n",
    "print(\"error for each value of k = {}\".format(np.round(MSE,4)))\n",
    "plt.figure(figsize=(10,8))\n",
    "plt.plot(k,MSE,color=\"black\")\n",
    "\n",
    "knn=KNeighborsClassifier(n_neighbors=optimalK,algorithm=\"kd_tree\")\n",
    "knn.fit(sent_vect,yTrain)\n",
    "\n",
    "predicted=knn.predict(sent_vect_test)\n",
    "scikitplot.metrics.plot_confusion_matrix(yTest,predicted)\n"
   ]
  },
  {
   "cell_type": "markdown",
   "metadata": {},
   "source": [
    "## observation:\n",
    "no change as we compare to brute force,same results!"
   ]
  },
  {
   "cell_type": "markdown",
   "metadata": {},
   "source": [
    "# TFIDF weighted word2vec"
   ]
  },
  {
   "cell_type": "markdown",
   "metadata": {},
   "source": [
    "## for train"
   ]
  },
  {
   "cell_type": "code",
   "execution_count": 92,
   "metadata": {},
   "outputs": [
    {
     "name": "stderr",
     "output_type": "stream",
     "text": [
      "100%|████████████████████████████████████████████████████████████████████████████| 42000/42000 [23:26<00:00, 29.85it/s]\n"
     ]
    }
   ],
   "source": [
    "features=model.get_feature_names()\n",
    "sent_vec=[]\n",
    "row=0\n",
    "for x in tqdm(xTrain):\n",
    "    sVec=np.zeros(50)\n",
    "    weight=0\n",
    "    for word in x:\n",
    "        if word in words:\n",
    "            vec=modelw2v.wv[word]\n",
    "            tfidf=trainTFIDF[row,features.index(word)]\n",
    "            sVec+=(vec*tfidf)\n",
    "            weight+=tfidf\n",
    "    if(weight!=0):\n",
    "        sent_vec.append(sVec/weight)\n",
    "    row+=1    "
   ]
  },
  {
   "cell_type": "markdown",
   "metadata": {},
   "source": [
    "## for test"
   ]
  },
  {
   "cell_type": "code",
   "execution_count": 94,
   "metadata": {},
   "outputs": [
    {
     "name": "stderr",
     "output_type": "stream",
     "text": [
      "100%|████████████████████████████████████████████████████████████████████████████| 18000/18000 [11:49<00:00, 33.78it/s]\n"
     ]
    }
   ],
   "source": [
    "sent_vec_test=[]\n",
    "row=0\n",
    "for x in tqdm(xTest):\n",
    "    sVec=np.zeros(50)\n",
    "    weight=0\n",
    "    for word in x:\n",
    "        if word in words:\n",
    "            vec=modelw2v.wv[word]\n",
    "            tfidf=testTFIDF[row,features.index(word)]\n",
    "            sVec+=(vec*tfidf)\n",
    "            weight+=tfidf\n",
    "    if(weight!=0):\n",
    "        sent_vec_test.append(sVec/weight)\n",
    "    row+=1 "
   ]
  },
  {
   "cell_type": "markdown",
   "metadata": {},
   "source": [
    "## calculating best hyperparameter"
   ]
  },
  {
   "cell_type": "code",
   "execution_count": 95,
   "metadata": {},
   "outputs": [
    {
     "name": "stderr",
     "output_type": "stream",
     "text": [
      "100%|██████████████████████████████████████████████████████████████████████████████████| 25/25 [12:46<00:00, 31.48s/it]\n"
     ]
    }
   ],
   "source": [
    "cvScores=[]\n",
    "k=list(range(1,50,2))\n",
    "for i in tqdm(k):\n",
    "    knn=KNeighborsClassifier(n_neighbors=i,algorithm=\"brute\")\n",
    "    score=cross_val_score(knn,sent_vect,yTrain,cv=3,scoring=\"accuracy\")\n",
    "    cvScores.append(score.mean())"
   ]
  },
  {
   "cell_type": "code",
   "execution_count": 96,
   "metadata": {},
   "outputs": [
    {
     "name": "stdout",
     "output_type": "stream",
     "text": [
      "optimal k is 17\n",
      "error for each value of k = [0.1469 0.119  0.1113 0.1088 0.108  0.1074 0.107  0.1071 0.1068 0.1072\n",
      " 0.1071 0.1073 0.1072 0.1073 0.1077 0.1076 0.1078 0.1077 0.1083 0.1085\n",
      " 0.1087 0.109  0.1091 0.1091 0.1092]\n"
     ]
    },
    {
     "data": {
      "text/plain": [
       "[<matplotlib.lines.Line2D at 0x256373767b8>]"
      ]
     },
     "execution_count": 96,
     "metadata": {},
     "output_type": "execute_result"
    },
    {
     "data": {
      "image/png": "[encoded data removed]",
      "text/plain": [
       "<Figure size 720x576 with 1 Axes>"
      ]
     },
     "metadata": {},
     "output_type": "display_data"
    }
   ],
   "source": [
    "#ERROR\n",
    "MSE=[1-x for x in cvScores]\n",
    "optimalK=k[MSE.index(min(MSE))]\n",
    "print(\"optimal k is {}\".format(optimalK))\n",
    "print(\"error for each value of k = {}\".format(np.round(MSE,4)))\n",
    "plt.figure(figsize=(10,8))\n",
    "plt.plot(k,MSE,color=\"black\")"
   ]
  },
  {
   "cell_type": "code",
   "execution_count": 97,
   "metadata": {},
   "outputs": [
    {
     "data": {
      "text/plain": [
       "KNeighborsClassifier(algorithm='brute', leaf_size=30, metric='minkowski',\n",
       "           metric_params=None, n_jobs=1, n_neighbors=17, p=2,\n",
       "           weights='uniform')"
      ]
     },
     "execution_count": 97,
     "metadata": {},
     "output_type": "execute_result"
    }
   ],
   "source": [
    "knn=KNeighborsClassifier(n_neighbors=optimalK,algorithm=\"brute\")\n",
    "knn.fit(sent_vect,yTrain)"
   ]
  },
  {
   "cell_type": "code",
   "execution_count": 98,
   "metadata": {},
   "outputs": [
    {
     "data": {
      "text/plain": [
       "<matplotlib.axes._subplots.AxesSubplot at 0x256382d7b70>"
      ]
     },
     "execution_count": 98,
     "metadata": {},
     "output_type": "execute_result"
    },
    {
     "data": {
      "image/png": "[encoded data removed]",
      "text/plain": [
       "<Figure size 432x288 with 2 Axes>"
      ]
     },
     "metadata": {},
     "output_type": "display_data"
    }
   ],
   "source": [
    "predicted=knn.predict(sent_vect_test)\n",
    "scikitplot.metrics.plot_confusion_matrix(yTest,predicted)"
   ]
  },
  {
   "cell_type": "markdown",
   "metadata": {},
   "source": [
    "## observation:\n",
    "no cahnge ,predicting a lot of negative points as positive and positive as negative."
   ]
  },
  {
   "cell_type": "markdown",
   "metadata": {},
   "source": [
    "## using kdtree"
   ]
  },
  {
   "cell_type": "code",
   "execution_count": 99,
   "metadata": {},
   "outputs": [
    {
     "name": "stderr",
     "output_type": "stream",
     "text": [
      "100%|███████████████████████████████████████████████████████████████████████████████| 25/25 [1:19:33<00:00, 196.90s/it]\n"
     ]
    }
   ],
   "source": [
    "cvScores=[]\n",
    "k=list(range(1,50,2))\n",
    "for i in tqdm(k):\n",
    "    knn=KNeighborsClassifier(n_neighbors=i,algorithm=\"kd_tree\")\n",
    "    score=cross_val_score(knn,sent_vect,yTrain,cv=3,scoring=\"accuracy\")\n",
    "    cvScores.append(score.mean())"
   ]
  },
  {
   "cell_type": "markdown",
   "metadata": {},
   "source": [
    "## evaluating bestK and confusion matrics"
   ]
  },
  {
   "cell_type": "code",
   "execution_count": 100,
   "metadata": {},
   "outputs": [
    {
     "name": "stdout",
     "output_type": "stream",
     "text": [
      "optimal k is 17\n",
      "error for each value of k = [0.1469 0.119  0.1113 0.1088 0.108  0.1074 0.107  0.1071 0.1068 0.1072\n",
      " 0.1071 0.1073 0.1072 0.1073 0.1077 0.1076 0.1078 0.1077 0.1083 0.1085\n",
      " 0.1087 0.109  0.1091 0.1091 0.1092]\n"
     ]
    },
    {
     "data": {
      "text/plain": [
       "<matplotlib.axes._subplots.AxesSubplot at 0x2564ac257f0>"
      ]
     },
     "execution_count": 100,
     "metadata": {},
     "output_type": "execute_result"
    },
    {
     "data": {
      "image/png": "[encoded data removed]",
      "text/plain": [
       "<Figure size 720x576 with 1 Axes>"
      ]
     },
     "metadata": {},
     "output_type": "display_data"
    },
    {
     "data": {
      "image/png": "[encoded data removed]",
      "text/plain": [
       "<Figure size 432x288 with 2 Axes>"
      ]
     },
     "metadata": {},
     "output_type": "display_data"
    }
   ],
   "source": [
    "#ERROR\n",
    "MSE=[1-x for x in cvScores]\n",
    "optimalK=k[MSE.index(min(MSE))]\n",
    "print(\"optimal k is {}\".format(optimalK))\n",
    "print(\"error for each value of k = {}\".format(np.round(MSE,4)))\n",
    "plt.figure(figsize=(10,8))\n",
    "plt.plot(k,MSE,color=\"black\")\n",
    "\n",
    "knn=KNeighborsClassifier(n_neighbors=optimalK,algorithm=\"kd_tree\")\n",
    "knn.fit(sent_vect,yTrain)\n",
    "\n",
    "predicted=knn.predict(sent_vect_test)\n",
    "scikitplot.metrics.plot_confusion_matrix(yTest,predicted)"
   ]
  },
  {
   "cell_type": "markdown",
   "metadata": {},
   "source": [
    "# observation:\n",
    "same model as above!"
   ]
  },
  {
   "cell_type": "code",
   "execution_count": 104,
   "metadata": {},
   "outputs": [
    {
     "name": "stdout",
     "output_type": "stream",
     "text": [
      "+------------+---------+----------------+\n",
      "| vectorizer |  model  | hyperparameter |\n",
      "+------------+---------+----------------+\n",
      "|    BOW     |  brute  |       3        |\n",
      "|    BOW     | kd_tree |       5        |\n",
      "|   TFIDF    |  brute  |       7        |\n",
      "|   TFIDF    | kd_tree |       7        |\n",
      "|   AVGw2V   |  brute  |       17       |\n",
      "|  tfidfW2v  | kd_tree |       17       |\n",
      "+------------+---------+----------------+\n"
     ]
    }
   ],
   "source": [
    "from prettytable import PrettyTable\n",
    "    \n",
    "x = PrettyTable()\n",
    "\n",
    "x.field_names = [\"vectorizer\", \"model\", \"hyperparameter\"]\n",
    "\n",
    "x.add_row([\"BOW\", \"brute\", 3])\n",
    "x.add_row([\"BOW\", \"kd_tree\", 5])\n",
    "x.add_row([\"TFIDF\",\"brute\", 7])\n",
    "x.add_row([\"TFIDF\",\"kd_tree\", 7])\n",
    "x.add_row([\"AVGw2V\", \"brute\", 17])\n",
    "x.add_row([\"tfidfW2v\",\"kd_tree\", 17])\n",
    "print(x)"
   ]
  }
 ],
 "metadata": {
  "kernelspec": {
   "display_name": "Python 3",
   "language": "python",
   "name": "python3"
  },
  "language_info": {
   "codemirror_mode": {
    "name": "ipython",
    "version": 3
   },
   "file_extension": ".py",
   "mimetype": "text/x-python",
   "name": "python",
   "nbconvert_exporter": "python",
   "pygments_lexer": "ipython3",
   "version": "3.6.5"
  }
 },
 "nbformat": 4,
 "nbformat_minor": 2
}
